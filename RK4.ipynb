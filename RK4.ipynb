{
 "cells": [
  {
   "cell_type": "code",
   "execution_count": 1,
   "id": "1fbb4879-819d-4a94-a8eb-2cfd66fd13b4",
   "metadata": {},
   "outputs": [
    {
     "data": {
      "text/plain": [
       "\"\\nThis code does the same things as the Euler.ipynb, with the only difference being that this one uses the more advanced and efficient\\nRunge-Kutta integrator. In order to implement this method efficiently, it's best to switch over to numpy vectors completely, instead of\\nprojecting all equations on x,y,z coordinates and solving separately.\\n\\nOther than that, the data analysis section is mostly the same, so, if you want to find a more detailed explanation about a certain cell,\\nrefer to the Euler.ipynb notebook.\\n\""
      ]
     },
     "execution_count": 1,
     "metadata": {},
     "output_type": "execute_result"
    }
   ],
   "source": [
    "\"\"\"\n",
    "This code does the same things as the Euler.ipynb, with the only difference being that this one uses the more advanced and efficient\n",
    "Runge-Kutta integrator. In order to implement this method efficiently, it's best to switch over to numpy vectors completely, instead of\n",
    "projecting all equations on x,y,z coordinates and solving separately.\n",
    "\n",
    "Other than that, the data analysis section is mostly the same, so, if you want to find a more detailed explanation about a certain cell,\n",
    "refer to the Euler.ipynb notebook.\n",
    "\"\"\""
   ]
  },
  {
   "cell_type": "code",
   "execution_count": 2,
   "id": "0129d00a-8976-43f3-b53d-7dbcb720d437",
   "metadata": {},
   "outputs": [
    {
     "name": "stdout",
     "output_type": "stream",
     "text": [
      "done\n"
     ]
    }
   ],
   "source": [
    "import numpy as np\n",
    "import matplotlib.pyplot as plt\n",
    "from matplotlib.ticker import FuncFormatter\n",
    "\n",
    "G = 6.67e-11         #Gravitational constant\n",
    "\n",
    "#Throughout the simulation, we will want to calculate and update the x,y,z,vx,vy,vz values of each body, so it's good to\n",
    "#define a class with the given values\n",
    "class body:\n",
    "    def __init__(self, m, x, y, z, vx, vy, vz):\n",
    "        self.m = m\n",
    "        self.x = x\n",
    "        self.y = y\n",
    "        self.z = z\n",
    "        self.vx = vx\n",
    "        self.vy = vy\n",
    "        self.vz = vz\n",
    "\n",
    "#We will also commonly need to calculate the distance between two bodies, given their x,y and z coordinates:\n",
    "def distance(x1, x2, y1, y2, z1, z2):\n",
    "    return ((x1 - x2)**2 + (y1 - y2)**2 + (z1 - z2)**2)**(0.5)\n",
    "\n",
    "#This function will make tick labels on graphs shorter and prettier\n",
    "def custom_formatter(value, _):\n",
    "    return \"{:.2e}\".format(value)\n",
    "\n",
    "#-------------------------------------------------------------------------------------------\n",
    "\n",
    "T = 86400*365*1e8       #Simulation end time in seconds, 1day = 86400s\n",
    "t = 0                #Simulation start time, most commonly zero\n",
    "dt = 864000*1e8           #Time step, smaller values give higher accuracy but longer computation time\n",
    "\n",
    "Minit, Xinit, Yinit, Zinit, VXinit, VYinit, VZinit = np.loadtxt('galaxy.txt', unpack=True)   #Initial conditions from file\n",
    "\n",
    "N = len(Minit) #Number of bodies in simulation\n",
    "\n",
    "MASSES = []\n",
    "POS = np.zeros((N,3))\n",
    "VEL = np.zeros((N,3))\n",
    "for i in range(len(Minit)):\n",
    "    MASSES.append(Minit[i]*2e30)\n",
    "    POS[i] = [Xinit[i]*3.028e22,Yinit[i]*3.028e22,Zinit[i]*3.028e22]\n",
    "    VEL[i] = [VXinit[i]*1e5,VYinit[i]*1e5,VZinit[i]*1e5]\n",
    "\n",
    "ACC = np.zeros_like(POS)\n",
    "\n",
    "X = []\n",
    "Y = []\n",
    "Z = []\n",
    "TIME = []        #List for storing time values\n",
    "U = []           #List for the total potential energy over time\n",
    "K = []           #List for the total kinetic energy over time\n",
    "E = []           #List for the total energy over time\n",
    "\n",
    "print('done')"
   ]
  },
  {
   "cell_type": "code",
   "execution_count": 3,
   "id": "4c7b0e38-1b76-4d24-b8fb-0a21c072b749",
   "metadata": {},
   "outputs": [
    {
     "name": "stdout",
     "output_type": "stream",
     "text": [
      "0.0\n",
      "2.73972602739726\n",
      "5.47945205479452\n",
      "8.219178082191782\n",
      "10.95890410958904\n",
      "13.698630136986301\n",
      "16.438356164383563\n",
      "19.17808219178082\n",
      "21.91780821917808\n",
      "24.65753424657534\n",
      "27.397260273972602\n",
      "30.136986301369863\n",
      "32.87671232876713\n",
      "35.61643835616438\n",
      "38.35616438356164\n",
      "41.0958904109589\n",
      "43.83561643835616\n",
      "46.57534246575342\n",
      "49.31506849315068\n",
      "52.054794520547944\n",
      "54.794520547945204\n",
      "57.534246575342465\n",
      "60.273972602739725\n",
      "63.013698630136986\n",
      "65.75342465753425\n",
      "68.4931506849315\n",
      "71.23287671232876\n",
      "73.97260273972603\n",
      "76.71232876712328\n",
      "79.45205479452055\n",
      "82.1917808219178\n",
      "84.93150684931507\n",
      "87.67123287671232\n",
      "90.41095890410959\n",
      "93.15068493150685\n",
      "95.89041095890411\n",
      "98.63013698630137\n"
     ]
    },
    {
     "data": {
      "image/png": "[encoded data removed]",
      "text/plain": [
       "<Figure size 432x288 with 1 Axes>"
      ]
     },
     "metadata": {
      "needs_background": "light"
     },
     "output_type": "display_data"
    }
   ],
   "source": [
    "def acc(pos, mass):\n",
    "    ACCELERATIONS_local = np.zeros_like(pos)\n",
    "    for i in range(N):\n",
    "        for j in range(N):\n",
    "            if i != j:\n",
    "                r = pos[i] - pos[j]\n",
    "                ACCELERATIONS_local[i] += G * mass[j] * r / np.linalg.norm(r)**3\n",
    "\n",
    "    return ACCELERATIONS_local\n",
    "\n",
    "\n",
    "\n",
    "while t<=T:\n",
    "    \n",
    "    k1v = dt * acc(POS, MASSES)\n",
    "    k1x = dt * VEL\n",
    "    \n",
    "    k2v = dt * acc(POS + k1x / 2, MASSES)\n",
    "    k2x = dt * (VEL + k1v / 2)\n",
    "    \n",
    "    k3v = dt * acc(POS + k2x / 2, MASSES)\n",
    "    k3x = dt * (VEL + k2v / 2)\n",
    "    \n",
    "    k4v = dt * acc(POS + k3x, MASSES)\n",
    "    k4x = dt * (VEL + k3v)\n",
    "\n",
    "    VEL += (k1v + 2*k2v + 2*k3v + k4v) / 6\n",
    "    POS += (k1x + 2*k2x + 2*k3x + k4x) / 6\n",
    "\n",
    "\n",
    "    print(t*100/T) #Real-time feed on how far the simulation has progressed, given in percentages\n",
    "    t+=dt\n",
    "    TIME.append(t)\n",
    "\n",
    "    if (t+dt)>T:\n",
    "        for i in range(N):\n",
    "            X.append(POS[i,0])\n",
    "            Y.append(POS[i,1])\n",
    "            Z.append(POS[i,2])\n",
    "\n",
    "plt.scatter(X,Y)\n",
    "plt.show()\n"
   ]
  },
  {
   "cell_type": "code",
   "execution_count": 4,
   "id": "a5b3de20-030c-430c-958a-9830c6863f34",
   "metadata": {},
   "outputs": [
    {
     "data": {
      "text/plain": [
       "\"\\nNow we move on to analyzing some of the data we've collected in the previous block of code. The first thing we're interested in when\\nanalyzing galaxies and similar gravitationally-bound systems is their stability, and this is best done by looking at the energy plot\\nover time\\n\""
      ]
     },
     "execution_count": 4,
     "metadata": {},
     "output_type": "execute_result"
    }
   ],
   "source": [
    "\"\"\"\n",
    "Now we move on to analyzing some of the data we've collected in the previous block of code. The first thing we're interested in when\n",
    "analyzing galaxies and similar gravitationally-bound systems is their stability, and this is best done by looking at the energy plot\n",
    "over time\n",
    "\"\"\""
   ]
  },
  {
   "cell_type": "code",
   "execution_count": 5,
   "id": "7ab80167-c81b-48bf-8171-8bea123ac74a",
   "metadata": {},
   "outputs": [
    {
     "ename": "ValueError",
     "evalue": "x and y must have same first dimension, but have shapes (37,) and (0,)",
     "output_type": "error",
     "traceback": [
      "\u001b[0;31m---------------------------------------------------------------------------\u001b[0m",
      "\u001b[0;31mValueError\u001b[0m                                Traceback (most recent call last)",
      "\u001b[0;32m/tmp/ipykernel_6053/2154307455.py\u001b[0m in \u001b[0;36m<module>\u001b[0;34m\u001b[0m\n\u001b[1;32m      4\u001b[0m \u001b[0mplt\u001b[0m\u001b[0;34m.\u001b[0m\u001b[0mxlabel\u001b[0m\u001b[0;34m(\u001b[0m\u001b[0;34m'Time [s]'\u001b[0m\u001b[0;34m)\u001b[0m\u001b[0;34m\u001b[0m\u001b[0;34m\u001b[0m\u001b[0m\n\u001b[1;32m      5\u001b[0m \u001b[0mplt\u001b[0m\u001b[0;34m.\u001b[0m\u001b[0mylabel\u001b[0m\u001b[0;34m(\u001b[0m\u001b[0;34m'Total energy [J]'\u001b[0m\u001b[0;34m)\u001b[0m\u001b[0;34m\u001b[0m\u001b[0;34m\u001b[0m\u001b[0m\n\u001b[0;32m----> 6\u001b[0;31m \u001b[0mplt\u001b[0m\u001b[0;34m.\u001b[0m\u001b[0mplot\u001b[0m\u001b[0;34m(\u001b[0m\u001b[0mTIME\u001b[0m\u001b[0;34m,\u001b[0m\u001b[0mE\u001b[0m\u001b[0;34m)\u001b[0m\u001b[0;34m\u001b[0m\u001b[0;34m\u001b[0m\u001b[0m\n\u001b[0m\u001b[1;32m      7\u001b[0m \u001b[0mplt\u001b[0m\u001b[0;34m.\u001b[0m\u001b[0mshow\u001b[0m\u001b[0;34m(\u001b[0m\u001b[0;34m)\u001b[0m\u001b[0;34m\u001b[0m\u001b[0;34m\u001b[0m\u001b[0m\n",
      "\u001b[0;32m/usr/lib/python3/dist-packages/matplotlib/pyplot.py\u001b[0m in \u001b[0;36mplot\u001b[0;34m(scalex, scaley, data, *args, **kwargs)\u001b[0m\n\u001b[1;32m   2755\u001b[0m \u001b[0;34m@\u001b[0m\u001b[0m_copy_docstring_and_deprecators\u001b[0m\u001b[0;34m(\u001b[0m\u001b[0mAxes\u001b[0m\u001b[0;34m.\u001b[0m\u001b[0mplot\u001b[0m\u001b[0;34m)\u001b[0m\u001b[0;34m\u001b[0m\u001b[0;34m\u001b[0m\u001b[0m\n\u001b[1;32m   2756\u001b[0m \u001b[0;32mdef\u001b[0m \u001b[0mplot\u001b[0m\u001b[0;34m(\u001b[0m\u001b[0;34m*\u001b[0m\u001b[0margs\u001b[0m\u001b[0;34m,\u001b[0m \u001b[0mscalex\u001b[0m\u001b[0;34m=\u001b[0m\u001b[0;32mTrue\u001b[0m\u001b[0;34m,\u001b[0m \u001b[0mscaley\u001b[0m\u001b[0;34m=\u001b[0m\u001b[0;32mTrue\u001b[0m\u001b[0;34m,\u001b[0m \u001b[0mdata\u001b[0m\u001b[0;34m=\u001b[0m\u001b[0;32mNone\u001b[0m\u001b[0;34m,\u001b[0m \u001b[0;34m**\u001b[0m\u001b[0mkwargs\u001b[0m\u001b[0;34m)\u001b[0m\u001b[0;34m:\u001b[0m\u001b[0;34m\u001b[0m\u001b[0;34m\u001b[0m\u001b[0m\n\u001b[0;32m-> 2757\u001b[0;31m     return gca().plot(\n\u001b[0m\u001b[1;32m   2758\u001b[0m         \u001b[0;34m*\u001b[0m\u001b[0margs\u001b[0m\u001b[0;34m,\u001b[0m \u001b[0mscalex\u001b[0m\u001b[0;34m=\u001b[0m\u001b[0mscalex\u001b[0m\u001b[0;34m,\u001b[0m \u001b[0mscaley\u001b[0m\u001b[0;34m=\u001b[0m\u001b[0mscaley\u001b[0m\u001b[0;34m,\u001b[0m\u001b[0;34m\u001b[0m\u001b[0;34m\u001b[0m\u001b[0m\n\u001b[1;32m   2759\u001b[0m         **({\"data\": data} if data is not None else {}), **kwargs)\n",
      "\u001b[0;32m/usr/lib/python3/dist-packages/matplotlib/axes/_axes.py\u001b[0m in \u001b[0;36mplot\u001b[0;34m(self, scalex, scaley, data, *args, **kwargs)\u001b[0m\n\u001b[1;32m   1630\u001b[0m         \"\"\"\n\u001b[1;32m   1631\u001b[0m         \u001b[0mkwargs\u001b[0m \u001b[0;34m=\u001b[0m \u001b[0mcbook\u001b[0m\u001b[0;34m.\u001b[0m\u001b[0mnormalize_kwargs\u001b[0m\u001b[0;34m(\u001b[0m\u001b[0mkwargs\u001b[0m\u001b[0;34m,\u001b[0m \u001b[0mmlines\u001b[0m\u001b[0;34m.\u001b[0m\u001b[0mLine2D\u001b[0m\u001b[0;34m)\u001b[0m\u001b[0;34m\u001b[0m\u001b[0;34m\u001b[0m\u001b[0m\n\u001b[0;32m-> 1632\u001b[0;31m         \u001b[0mlines\u001b[0m \u001b[0;34m=\u001b[0m \u001b[0;34m[\u001b[0m\u001b[0;34m*\u001b[0m\u001b[0mself\u001b[0m\u001b[0;34m.\u001b[0m\u001b[0m_get_lines\u001b[0m\u001b[0;34m(\u001b[0m\u001b[0;34m*\u001b[0m\u001b[0margs\u001b[0m\u001b[0;34m,\u001b[0m \u001b[0mdata\u001b[0m\u001b[0;34m=\u001b[0m\u001b[0mdata\u001b[0m\u001b[0;34m,\u001b[0m \u001b[0;34m**\u001b[0m\u001b[0mkwargs\u001b[0m\u001b[0;34m)\u001b[0m\u001b[0;34m]\u001b[0m\u001b[0;34m\u001b[0m\u001b[0;34m\u001b[0m\u001b[0m\n\u001b[0m\u001b[1;32m   1633\u001b[0m         \u001b[0;32mfor\u001b[0m \u001b[0mline\u001b[0m \u001b[0;32min\u001b[0m \u001b[0mlines\u001b[0m\u001b[0;34m:\u001b[0m\u001b[0;34m\u001b[0m\u001b[0;34m\u001b[0m\u001b[0m\n\u001b[1;32m   1634\u001b[0m             \u001b[0mself\u001b[0m\u001b[0;34m.\u001b[0m\u001b[0madd_line\u001b[0m\u001b[0;34m(\u001b[0m\u001b[0mline\u001b[0m\u001b[0;34m)\u001b[0m\u001b[0;34m\u001b[0m\u001b[0;34m\u001b[0m\u001b[0m\n",
      "\u001b[0;32m/usr/lib/python3/dist-packages/matplotlib/axes/_base.py\u001b[0m in \u001b[0;36m__call__\u001b[0;34m(self, data, *args, **kwargs)\u001b[0m\n\u001b[1;32m    310\u001b[0m                 \u001b[0mthis\u001b[0m \u001b[0;34m+=\u001b[0m \u001b[0margs\u001b[0m\u001b[0;34m[\u001b[0m\u001b[0;36m0\u001b[0m\u001b[0;34m]\u001b[0m\u001b[0;34m,\u001b[0m\u001b[0;34m\u001b[0m\u001b[0;34m\u001b[0m\u001b[0m\n\u001b[1;32m    311\u001b[0m                 \u001b[0margs\u001b[0m \u001b[0;34m=\u001b[0m \u001b[0margs\u001b[0m\u001b[0;34m[\u001b[0m\u001b[0;36m1\u001b[0m\u001b[0;34m:\u001b[0m\u001b[0;34m]\u001b[0m\u001b[0;34m\u001b[0m\u001b[0;34m\u001b[0m\u001b[0m\n\u001b[0;32m--> 312\u001b[0;31m             \u001b[0;32myield\u001b[0m \u001b[0;32mfrom\u001b[0m \u001b[0mself\u001b[0m\u001b[0;34m.\u001b[0m\u001b[0m_plot_args\u001b[0m\u001b[0;34m(\u001b[0m\u001b[0mthis\u001b[0m\u001b[0;34m,\u001b[0m \u001b[0mkwargs\u001b[0m\u001b[0;34m)\u001b[0m\u001b[0;34m\u001b[0m\u001b[0;34m\u001b[0m\u001b[0m\n\u001b[0m\u001b[1;32m    313\u001b[0m \u001b[0;34m\u001b[0m\u001b[0m\n\u001b[1;32m    314\u001b[0m     \u001b[0;32mdef\u001b[0m \u001b[0mget_next_color\u001b[0m\u001b[0;34m(\u001b[0m\u001b[0mself\u001b[0m\u001b[0;34m)\u001b[0m\u001b[0;34m:\u001b[0m\u001b[0;34m\u001b[0m\u001b[0;34m\u001b[0m\u001b[0m\n",
      "\u001b[0;32m/usr/lib/python3/dist-packages/matplotlib/axes/_base.py\u001b[0m in \u001b[0;36m_plot_args\u001b[0;34m(self, tup, kwargs, return_kwargs)\u001b[0m\n\u001b[1;32m    496\u001b[0m \u001b[0;34m\u001b[0m\u001b[0m\n\u001b[1;32m    497\u001b[0m         \u001b[0;32mif\u001b[0m \u001b[0mx\u001b[0m\u001b[0;34m.\u001b[0m\u001b[0mshape\u001b[0m\u001b[0;34m[\u001b[0m\u001b[0;36m0\u001b[0m\u001b[0;34m]\u001b[0m \u001b[0;34m!=\u001b[0m \u001b[0my\u001b[0m\u001b[0;34m.\u001b[0m\u001b[0mshape\u001b[0m\u001b[0;34m[\u001b[0m\u001b[0;36m0\u001b[0m\u001b[0;34m]\u001b[0m\u001b[0;34m:\u001b[0m\u001b[0;34m\u001b[0m\u001b[0;34m\u001b[0m\u001b[0m\n\u001b[0;32m--> 498\u001b[0;31m             raise ValueError(f\"x and y must have same first dimension, but \"\n\u001b[0m\u001b[1;32m    499\u001b[0m                              f\"have shapes {x.shape} and {y.shape}\")\n\u001b[1;32m    500\u001b[0m         \u001b[0;32mif\u001b[0m \u001b[0mx\u001b[0m\u001b[0;34m.\u001b[0m\u001b[0mndim\u001b[0m \u001b[0;34m>\u001b[0m \u001b[0;36m2\u001b[0m \u001b[0;32mor\u001b[0m \u001b[0my\u001b[0m\u001b[0;34m.\u001b[0m\u001b[0mndim\u001b[0m \u001b[0;34m>\u001b[0m \u001b[0;36m2\u001b[0m\u001b[0;34m:\u001b[0m\u001b[0;34m\u001b[0m\u001b[0;34m\u001b[0m\u001b[0m\n",
      "\u001b[0;31mValueError\u001b[0m: x and y must have same first dimension, but have shapes (37,) and (0,)"
     ]
    },
    {
     "data": {
      "image/png": "[encoded data removed]",
      "text/plain": [
       "<Figure size 432x288 with 1 Axes>"
      ]
     },
     "metadata": {
      "needs_background": "light"
     },
     "output_type": "display_data"
    }
   ],
   "source": [
    "plt.gca().yaxis.set_major_formatter(FuncFormatter(custom_formatter))  #Makes y axis numbers look prettier\n",
    "\n",
    "plt.title('E(t)')\n",
    "plt.xlabel('Time [s]')\n",
    "plt.ylabel('Total energy [J]')\n",
    "plt.plot(TIME,E)\n",
    "plt.show()"
   ]
  },
  {
   "cell_type": "code",
   "execution_count": null,
   "id": "f3c7bad6-48ca-47f5-8592-5c16f9604bd3",
   "metadata": {},
   "outputs": [],
   "source": [
    "#We can see that the energy is conserved, even over ~Gyr periods, which is good.\n",
    "\n",
    "#Next, we can take a look at the potential and kinetic energies individually"
   ]
  },
  {
   "cell_type": "code",
   "execution_count": null,
   "id": "38519310-6fdd-4c16-8b2e-7522b5dc0ac3",
   "metadata": {},
   "outputs": [],
   "source": [
    "plt.gca().yaxis.set_major_formatter(FuncFormatter(custom_formatter)) \n",
    "\n",
    "plt.title('E_k(t)')\n",
    "plt.xlabel('Time [s]')\n",
    "plt.ylabel('Total kinetic energy [J]')\n",
    "plt.plot(TIME,K)\n",
    "plt.show()\n",
    "\n",
    "plt.clf()\n",
    "\n",
    "plt.gca().yaxis.set_major_formatter(FuncFormatter(custom_formatter))  \n",
    "\n",
    "plt.title('U(t)')\n",
    "plt.xlabel('Time [s]')\n",
    "plt.ylabel('Total potential energy [J]')\n",
    "plt.plot(TIME,U)\n",
    "plt.show()"
   ]
  },
  {
   "cell_type": "code",
   "execution_count": null,
   "id": "9e5c57b7-c76b-427f-8ee6-29188c101ce4",
   "metadata": {},
   "outputs": [],
   "source": [
    "\"\"\"\n",
    "Here we see some important information. Firstly, the kinetic energy is more stable than the potential energy.\n",
    "It might seem like kinetic energy is the exact same value over all time, but if you print its value during each time step in the main cell,\n",
    "you will see that's not the case. It's just that the change is too small to be visible on the graph. On the other hand, the potential energy\n",
    "is less stable, which is actually expected.\n",
    "\n",
    "The reason for that is that the kinetic energy scales with the velocity (~v^2), whereas the potential energy scales primarily with position\n",
    "(~1/r). During the evolution of this galaxy, we expect its constituents to move around at all times, drastically changing their positions\n",
    "over time. On the other hand, most of its particles should be in relatively stable rotation around the center of mass, leading to very\n",
    "small changes in velocity over time. Even so, during the ~10Gyr simulation time, the total potential energy never changed more than a few\n",
    "percent, which, for a toy model galaxy with just 400 particles, is a good result.\n",
    "\"\"\""
   ]
  },
  {
   "cell_type": "code",
   "execution_count": null,
   "id": "df71f075-3930-4e92-b5a7-a2d81dc70796",
   "metadata": {},
   "outputs": [],
   "source": [
    "\"\"\"\n",
    "Now, we might want to look closer into the morphology of this galaxy. For starters, we could try something like a 3D plot of\n",
    "all particles' positions\n",
    "\"\"\""
   ]
  },
  {
   "cell_type": "code",
   "execution_count": null,
   "id": "37fdd2bd-4b4f-4258-8c4f-64778bdf0b04",
   "metadata": {},
   "outputs": [],
   "source": [
    "fig = plt.figure()\n",
    "ax = plt.axes(projection ='3d')\n",
    "ax.scatter3D(X, Y, Z)\n",
    "plt.show()"
   ]
  },
  {
   "cell_type": "code",
   "execution_count": null,
   "id": "20e0241e-24ff-43a3-81ba-a1ea2395c70e",
   "metadata": {},
   "outputs": [],
   "source": [
    "\"\"\"\n",
    "This gives us a general glimpse into how this galaxy looks like, but it gives us no quantifiable data. For this purpose, we want to\n",
    "analyze a density plot. For this, we first need to find the center of mass, move our coordinate system so its origin is the center of mass,\n",
    "and then calculate the density of concentric thin shells around the center of mass, with increasing radius.\n",
    "\"\"\""
   ]
  },
  {
   "cell_type": "code",
   "execution_count": null,
   "id": "45614f29-bc6a-4d32-bba9-deed2a35b61f",
   "metadata": {},
   "outputs": [],
   "source": [
    "comx = 0 #Initialize center of mass\n",
    "comy = 0\n",
    "comz = 0\n",
    "\n",
    "#Total mass of the system calculation\n",
    "M = 0\n",
    "for i in range(N):\n",
    "    M+=BODIES[i].m\n",
    "\n",
    "for i in range(N):\n",
    "    comx += BODIES[i].x*BODIES[i].m/M\n",
    "    comy += BODIES[i].y*BODIES[i].m/M\n",
    "    comz += BODIES[i].z*BODIES[i].m/M\n",
    "\n",
    "\n",
    "#Let's see where the center of mass is on the upper plot\n",
    "print(comx, comy, comz)\n",
    "\n",
    "fig = plt.figure()\n",
    "ax = plt.axes(projection ='3d')\n",
    "ax.scatter3D(X, Y, Z)\n",
    "ax.scatter3D(comx, comy,comz, color='red')\n",
    "plt.show()"
   ]
  },
  {
   "cell_type": "code",
   "execution_count": null,
   "id": "9d7df7e3-c9c1-4757-91f3-017d085c947b",
   "metadata": {},
   "outputs": [],
   "source": [
    "#As we can see from the plot and the printed coordinates, the COM is somewhere near the main cluster of particles, as expected.\n",
    "#Let's see in more detail on 2D plots\n",
    "\n",
    "plt.title('X-Y plane')\n",
    "plt.scatter(X,Y)\n",
    "plt.scatter(comx,comy, color='red')\n",
    "plt.show()\n",
    "\n",
    "plt.title('X-Z plane')\n",
    "plt.scatter(X,Z)\n",
    "plt.scatter(comx,comz, color='red')\n",
    "plt.show()\n",
    "\n",
    "plt.title('Y-Z plane')\n",
    "plt.scatter(Y,Z)\n",
    "plt.scatter(comy,comz, color='red')\n",
    "plt.show()"
   ]
  },
  {
   "cell_type": "code",
   "execution_count": null,
   "id": "56dc7173-ce9e-4b50-99ba-43b542c3218b",
   "metadata": {},
   "outputs": [],
   "source": [
    "#Everything seems to be in order, so we can move on to building the density profile\n",
    "#We first move the entire system so that the center of mass is in the r=0 point\n",
    "\n",
    "for i in range(N):\n",
    "    BODIES[i].x -= comx\n",
    "    BODIES[i].y -= comy\n",
    "    BODIES[i].z -= comz\n",
    "\n"
   ]
  },
  {
   "cell_type": "code",
   "execution_count": null,
   "id": "9500c6c5-e016-4de6-8ea5-7d07b0f354e4",
   "metadata": {},
   "outputs": [],
   "source": [
    "RADII = []\n",
    "DENSITIES = []\n",
    "\n",
    "r = 1e8\n",
    "dr = 1e21\n",
    "\n",
    "#Go in expanding concentric spherical shells around the center of mass\n",
    "while r<5e24:\n",
    "\n",
    "    #Calculate total mass within given shell\n",
    "    mass = 0\n",
    "    for i in range(N):\n",
    "        #If a particle is within [r, r+dr]\n",
    "        if distance(BODIES[i].x, 0, BODIES[i].y, 0, BODIES[i].z, 0)<= r+dr and distance(BODIES[i].x, 0, BODIES[i].y, 0, BODIES[i].z, 0)> r:\n",
    "            mass+=BODIES[i].m\n",
    "\n",
    "    volume = 4*3.1415*r*r*dr #Volume of given shell\n",
    "    density = mass/volume #Density within [r, r+dr]\n",
    "    if mass != 0:\n",
    "        RADII.append(r)\n",
    "        DENSITIES.append(density)\n",
    "\n",
    "    r+=dr\n",
    "\n",
    "\n",
    "plt.title('Density profile of our mock galaxy')\n",
    "plt.plot(RADII, DENSITIES)\n",
    "plt.xlim(0, 5e23)\n",
    "plt.show()\n",
    "\n",
    "plt.clf()\n",
    "\n",
    "plt.title('Logarithmic plot of the same density profile')\n",
    "plt.plot(RADII, DENSITIES)\n",
    "plt.yscale('log')\n",
    "plt.show()    "
   ]
  },
  {
   "cell_type": "code",
   "execution_count": null,
   "id": "e6fe379d-8da0-4ab9-a84f-38fc1dfd5658",
   "metadata": {},
   "outputs": [],
   "source": [
    "\"\"\"\n",
    "The 'coarsness' of these plots is due to the low number of bodies in our test galaxy. Many of the shells that we iterated over had\n",
    "no particles in them at all. I have removed those dots from the plots for clarity, but this means that we can't have smooth graphs.\n",
    "\n",
    "In order to create a galaxy with a smooth density plot, we'd need to have upwards of 500 thousand particles in it, which isn't practical\n",
    "for the purposes of this excercise.\n",
    "\n",
    "As a final touch before we wrap up, we can generate a heatmap of our galaxy. Since there's a small amount of particles in it, the\n",
    "resolution won't be very satisfying. However, it's still good practice, as heatmaps can often provide insightful information about the\n",
    "structure of a galaxy, or even the possible formation of substructures within it (shells, streams, globular clusters etc).\n",
    "\"\"\""
   ]
  },
  {
   "cell_type": "code",
   "execution_count": null,
   "id": "845a404e-48b8-4b95-b1ba-eb7044fb3f8f",
   "metadata": {},
   "outputs": [],
   "source": [
    "plt.hexbin(X, Y, gridsize=50, cmap='viridis', mincnt=1)\n",
    "plt.colorbar(label='Density')\n",
    "plt.xlabel('X-axis')\n",
    "plt.ylabel('Y-axis')\n",
    "plt.title('X-Y density heatmap')\n",
    "plt.show()\n",
    "\n",
    "plt.clf()\n",
    "\n",
    "plt.hexbin(X, Y, gridsize=300, cmap='viridis', mincnt=1)\n",
    "plt.colorbar(label='Density')\n",
    "plt.xlabel('X-axis')\n",
    "plt.xlim(-5e23, 5e23)\n",
    "plt.ylim(-5e23, 5e23)\n",
    "plt.ylabel('Y-axis')\n",
    "plt.title('X-Y density heatmap (zoomed in)')\n",
    "plt.show()"
   ]
  }
 ],
 "metadata": {
  "kernelspec": {
   "display_name": "Python 3 (ipykernel)",
   "language": "python",
   "name": "python3"
  },
  "language_info": {
   "codemirror_mode": {
    "name": "ipython",
    "version": 3
   },
   "file_extension": ".py",
   "mimetype": "text/x-python",
   "name": "python",
   "nbconvert_exporter": "python",
   "pygments_lexer": "ipython3",
   "version": "3.10.12"
  }
 },
 "nbformat": 4,
 "nbformat_minor": 5
}
