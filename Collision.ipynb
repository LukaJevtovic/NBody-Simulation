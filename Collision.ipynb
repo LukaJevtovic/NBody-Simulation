{
 "cells": [
  {
   "cell_type": "code",
   "execution_count": 1,
   "id": "78dc0783-2a06-4b75-a8c2-e089150ce834",
   "metadata": {},
   "outputs": [
    {
     "data": {
      "text/plain": [
       "\"\\nIn this code we want to use what we've developed in the previous two, but this time apply it to a more substantial physical problem, namely\\nthe merger of two galaxies. Of course, we're still using an overly simplified model of a 400-particle 'galaxy', but we'll still be able\\nto do some more data analysis, develop techniques and reach conclusions that only make sense in the context of galaxy collisions.\\n\""
      ]
     },
     "execution_count": 1,
     "metadata": {},
     "output_type": "execute_result"
    }
   ],
   "source": [
    "\"\"\"\n",
    "In this code we want to use what we've developed in the previous two, but this time apply it to a more substantial physical problem, namely\n",
    "the merger of two galaxies. Of course, we're still using an overly simplified model of a 400-particle 'galaxy', but we'll still be able\n",
    "to do some more data analysis, develop techniques and reach conclusions that only make sense in the context of galaxy collisions.\n",
    "\"\"\""
   ]
  },
  {
   "cell_type": "code",
   "execution_count": 2,
   "id": "11dba6ab-2902-4be5-bf9d-e0e29ee52410",
   "metadata": {},
   "outputs": [
    {
     "name": "stdout",
     "output_type": "stream",
     "text": [
      "800\n",
      "800\n"
     ]
    },
    {
     "data": {
      "image/png": "[encoded data removed]",
      "text/plain": [
       "<Figure size 432x288 with 1 Axes>"
      ]
     },
     "metadata": {
      "needs_background": "light"
     },
     "output_type": "display_data"
    },
    {
     "name": "stdout",
     "output_type": "stream",
     "text": [
      "[ 3.60296258e+24 -3.16642956e+22 -2.48206874e+24]\n"
     ]
    }
   ],
   "source": [
    "import numpy as np\n",
    "import matplotlib.pyplot as plt\n",
    "from matplotlib.ticker import FuncFormatter\n",
    "\n",
    "G = 6.67e-11         #Gravitational constant\n",
    "\n",
    "#This function will make tick labels on graphs shorter and prettier\n",
    "def custom_formatter(value, _):\n",
    "    return \"{:.2e}\".format(value)\n",
    "\n",
    "#-------------------------------------------------------------------------------------------\n",
    "\n",
    "T = 86400*365*1e11       #Simulation end time in seconds, 1day = 86400s\n",
    "t = 0                #Simulation start time, most commonly zero\n",
    "dt = 86400*365*1e9           #Time step, smaller values give higher accuracy but longer computation time\n",
    "\n",
    "Minit, Xinit, Yinit, Zinit, VXinit, VYinit, VZinit = np.loadtxt('galaxy.txt', unpack=True)   #Initial conditions from file\n",
    "\n",
    "Minit = np.concatenate((Minit, Minit))\n",
    "Xinit = np.concatenate((Xinit, Xinit))\n",
    "Yinit = np.concatenate((Yinit, Yinit))\n",
    "Zinit = np.concatenate((Zinit, Zinit))\n",
    "VXinit = np.concatenate((VXinit, VXinit))\n",
    "VYinit = np.concatenate((VYinit, VYinit))\n",
    "VZinit = np.concatenate((VZinit, VZinit))\n",
    "\n",
    "#We will import the same galaxy twice, move one of them on the x-axis, and give them both additional velocity towards each other\n",
    "\n",
    "N = len(Minit) #Twice the number of bodies in a single galaxy\n",
    "print(N)\n",
    "\n",
    "MASSES = []\n",
    "POS = np.zeros((N,3))\n",
    "VEL = np.zeros((N,3))\n",
    "for i in range(N):\n",
    "\n",
    "    if i<400: #first galaxy\n",
    "        MASSES.append(Minit[i]*2e30)\n",
    "        POS[i] = [Xinit[i]*3.028e22,Yinit[i]*3.028e22,Zinit[i]*3.028e22]\n",
    "        VEL[i] = [VXinit[i]*1e5 + 1e5,VYinit[i]*1e5,VZinit[i]*1e5] #additional x-direction velocity towards second galaxy\n",
    "    else: #second galaxy\n",
    "        MASSES.append(Minit[i]*2e30)\n",
    "        POS[i] = [Xinit[i]*3.028e22 + 0.3e25,Yinit[i]*3.028e22,Zinit[i]*3.028e22] #shifted second galaxy by 1e25m on x-axis\n",
    "        VEL[i] = [VXinit[i]*1e5 - 1e5,VYinit[i]*1e5,VZinit[i]*1e5] #additional x-direction velocity towards first galaxy\n",
    "\n",
    "\n",
    "\n",
    "X = []\n",
    "Y = []\n",
    "Z = []\n",
    "TIME = []        #List for storing time values\n",
    "U = []           #List for the total potential energy over time\n",
    "K = []           #List for the total kinetic energy over time\n",
    "E = []           #List for the total energy over time\n",
    "DELTA = []       #List for energy change over time\n",
    "\n",
    "for i in range(N): #print initial positions\n",
    "    X.append(POS[i,0])\n",
    "    Y.append(POS[i,1])\n",
    "    Z.append(POS[i,2])\n",
    "\n",
    "print(len(X))\n",
    "plt.scatter(X,Y)\n",
    "plt.axis('equal')\n",
    "plt.show()\n",
    "\n",
    "print(POS[799])"
   ]
  },
  {
   "cell_type": "code",
   "execution_count": null,
   "id": "175ca98f-3da1-43dc-94de-396e39d47b28",
   "metadata": {},
   "outputs": [],
   "source": [
    "#Clear coordinate lists for further plotting\n",
    "X = []\n",
    "Y = []\n",
    "Z = []\n",
    "\n",
    "def acc(pos, mass):\n",
    "    ACCELERATIONS_local = np.zeros_like(pos)\n",
    "    for i in range(len(pos)):\n",
    "        for j in range(len(pos)):\n",
    "            if i != j:\n",
    "                r = pos[i] - pos[j]\n",
    "                if np.linalg.norm(r) == 0:\n",
    "                    print(pos[i])\n",
    "                    print(pos[j])\n",
    "                    print(r)\n",
    "                    print(i)\n",
    "                    print(j)\n",
    "                ACCELERATIONS_local[i] += G * mass[j] * r / np.linalg.norm(r)**3\n",
    "\n",
    "    return ACCELERATIONS_local\n",
    "\n",
    "\n",
    "k0 = 0 #Starting total kinetic energy of the system, to be calculated in the first timestep\n",
    "u0 = 0 #-||- potential -||-\n",
    "e0 = 0\n",
    "\n",
    "while t<=T:\n",
    "    X = []\n",
    "    Y = []\n",
    "    Z = []\n",
    "    #RK4 step\n",
    "    k1v = dt * acc(POS, MASSES)\n",
    "    k1x = dt * VEL\n",
    "    \n",
    "    k2v = dt * acc(POS + k1x / 2, MASSES)\n",
    "    k2x = dt * (VEL + k1v / 2)\n",
    "    \n",
    "    k3v = dt * acc(POS + k2x / 2, MASSES)\n",
    "    k3x = dt * (VEL + k2v / 2)\n",
    "    \n",
    "    k4v = dt * acc(POS + k3x, MASSES)\n",
    "    k4x = dt * (VEL + k3v)\n",
    "\n",
    "    VEL += (k1v + 2*k2v + 2*k3v + k4v) / 6\n",
    "    POS += (k1x + 2*k2x + 2*k3x + k4x) / 6\n",
    "\n",
    "\n",
    "    print(t*100/T) #Real-time feed on how far the simulation has progressed, given in percentages\n",
    "    t+=dt\n",
    "    TIME.append(t)\n",
    "\n",
    "    #if (t+dt)>T:\n",
    "    for i in range(N):\n",
    "        X.append(POS[i,0])\n",
    "        Y.append(POS[i,1])\n",
    "        Z.append(POS[i,2])\n",
    "    plt.scatter(X,Y)\n",
    "    plt.show()\n",
    "    plt.clf()\n",
    "        \n",
    "\n"
   ]
  },
  {
   "cell_type": "code",
   "execution_count": null,
   "id": "23851f1c-5a4f-42fe-820d-9ed9f49bafaa",
   "metadata": {},
   "outputs": [],
   "source": []
  }
 ],
 "metadata": {
  "kernelspec": {
   "display_name": "Python 3 (ipykernel)",
   "language": "python",
   "name": "python3"
  },
  "language_info": {
   "codemirror_mode": {
    "name": "ipython",
    "version": 3
   },
   "file_extension": ".py",
   "mimetype": "text/x-python",
   "name": "python",
   "nbconvert_exporter": "python",
   "pygments_lexer": "ipython3",
   "version": "3.10.12"
  }
 },
 "nbformat": 4,
 "nbformat_minor": 5
}
